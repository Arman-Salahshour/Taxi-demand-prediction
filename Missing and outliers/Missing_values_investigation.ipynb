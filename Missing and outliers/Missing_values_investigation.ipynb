{
  "cells": [
    {
      "cell_type": "code",
      "execution_count": null,
      "metadata": {
        "id": "kp4z6sVJeBsY"
      },
      "outputs": [],
      "source": [
        "\"\"\"\n",
        "This is an investigation code. It will be executed as a py file in CleanDatasetPackage folder.\n",
        "\"\"\"\n",
        "\n",
        "import pandas as pd\n",
        "import geopandas as gpd\n",
        "import numpy as np\n",
        "import matplotlib.pyplot as plt\n",
        "import seaborn as sns\n",
        "from datetime import datetime, timedelta"
      ]
    },
    {
      "cell_type": "code",
      "execution_count": 2,
      "metadata": {
        "colab": {
          "base_uri": "https://localhost:8080/"
        },
        "id": "whV0kf8XeHvn",
        "outputId": "05f566b3-6dc6-4fe1-baf7-b53e7b55c002"
      },
      "outputs": [
        {
          "name": "stdout",
          "output_type": "stream",
          "text": [
            "Mounted at /content/drive\n"
          ]
        }
      ],
      "source": [
        "from google.colab import drive\n",
        "drive.mount('/content/drive')"
      ]
    },
    {
      "cell_type": "code",
      "execution_count": 28,
      "metadata": {
        "id": "DHBr-5i8nHU4"
      },
      "outputs": [],
      "source": [
        "# df1 is dataset for first month\n",
        "df1 = pd.read_parquet('drive/MyDrive/data1.parquet')\n",
        "df1.rename(columns={'airport_fee': 'Airport_fee'}, inplace=True)"
      ]
    },
    {
      "cell_type": "code",
      "execution_count": 30,
      "metadata": {
        "id": "rsi4AtV8eMCv"
      },
      "outputs": [],
      "source": [
        "start_timestamp = datetime(2023, 1, 1, 0, 0, 0)\n",
        "end_timestamp = datetime(2023, 1, 31, 23, 59, 59)\n",
        "\n",
        "# Create the timestamp column\n",
        "df1['timestamp'] = df1['tpep_pickup_datetime'].apply(lambda x: start_timestamp + timedelta(minutes=((x - start_timestamp).total_seconds() // 600) * 10))\n",
        "\n",
        "# Filter out timestamps outside of the desired range\n",
        "df1 = df1[(df1['timestamp'] >= start_timestamp) & (df1['timestamp'] <= end_timestamp)]"
      ]
    },
    {
      "cell_type": "markdown",
      "metadata": {
        "id": "K6mdMmByCn_u"
      },
      "source": [
        "### Deleting rows before 2022\n",
        "because we want to predict data based on 2023 dataset"
      ]
    },
    {
      "cell_type": "code",
      "execution_count": 32,
      "metadata": {
        "id": "s2V9Jnb9CqRG"
      },
      "outputs": [],
      "source": [
        "df1 = df1.query(\"tpep_pickup_datetime.dt.year == 2023 & tpep_dropoff_datetime.dt.year == 2023\")"
      ]
    },
    {
      "cell_type": "code",
      "execution_count": 33,
      "metadata": {
        "id": "Kc9N6BnceUHS"
      },
      "outputs": [],
      "source": [
        "df1.set_index(\"tpep_pickup_datetime\", inplace=True)"
      ]
    },
    {
      "cell_type": "markdown",
      "metadata": {
        "id": "VkZMby0RH5Fh"
      },
      "source": [
        "### getting columns with null values"
      ]
    },
    {
      "cell_type": "code",
      "execution_count": 48,
      "metadata": {
        "colab": {
          "base_uri": "https://localhost:8080/"
        },
        "id": "SG04RAea9xFn",
        "outputId": "9764f1eb-aff0-4605-a112-1ae721909145"
      },
      "outputs": [
        {
          "data": {
            "text/plain": [
              "VendorID                     0\n",
              "tpep_dropoff_datetime        0\n",
              "passenger_count          71743\n",
              "trip_distance                0\n",
              "RatecodeID               71743\n",
              "store_and_fwd_flag       71743\n",
              "PULocationID                 0\n",
              "DOLocationID                 0\n",
              "payment_type                 0\n",
              "fare_amount                  0\n",
              "extra                        0\n",
              "mta_tax                      0\n",
              "tip_amount                   0\n",
              "tolls_amount                 0\n",
              "improvement_surcharge        0\n",
              "total_amount                 0\n",
              "congestion_surcharge     71743\n",
              "Airport_fee              71743\n",
              "timestamp                    0\n",
              "dtype: int64"
            ]
          },
          "execution_count": 48,
          "metadata": {},
          "output_type": "execute_result"
        }
      ],
      "source": [
        "df1.isnull().sum()"
      ]
    },
    {
      "cell_type": "markdown",
      "metadata": {
        "id": "Ue3scFfPIBh8"
      },
      "source": [
        "### imputing passenger_count with median of passenger_count in each pickup zone and each back and next timestamp"
      ]
    },
    {
      "cell_type": "markdown",
      "metadata": {
        "id": "icplvBCSIWzU"
      },
      "source": [
        "these columns are empty together"
      ]
    },
    {
      "cell_type": "code",
      "execution_count": 49,
      "metadata": {
        "colab": {
          "base_uri": "https://localhost:8080/",
          "height": 693
        },
        "id": "Jxtlg7aHefVn",
        "outputId": "3b291332-df04-4df8-9e25-6ca162cb594a"
      },
      "outputs": [
        {
          "data": {
            "text/html": [
              "\n",
              "\n",
              "  <div id=\"df-521d0ca5-f202-4e65-a83e-4d2a68343c10\">\n",
              "    <div class=\"colab-df-container\">\n",
              "      <div>\n",
              "<style scoped>\n",
              "    .dataframe tbody tr th:only-of-type {\n",
              "        vertical-align: middle;\n",
              "    }\n",
              "\n",
              "    .dataframe tbody tr th {\n",
              "        vertical-align: top;\n",
              "    }\n",
              "\n",
              "    .dataframe thead th {\n",
              "        text-align: right;\n",
              "    }\n",
              "</style>\n",
              "<table border=\"1\" class=\"dataframe\">\n",
              "  <thead>\n",
              "    <tr style=\"text-align: right;\">\n",
              "      <th></th>\n",
              "      <th>VendorID</th>\n",
              "      <th>tpep_dropoff_datetime</th>\n",
              "      <th>passenger_count</th>\n",
              "      <th>trip_distance</th>\n",
              "      <th>RatecodeID</th>\n",
              "      <th>store_and_fwd_flag</th>\n",
              "      <th>PULocationID</th>\n",
              "      <th>DOLocationID</th>\n",
              "      <th>payment_type</th>\n",
              "      <th>fare_amount</th>\n",
              "      <th>extra</th>\n",
              "      <th>mta_tax</th>\n",
              "      <th>tip_amount</th>\n",
              "      <th>tolls_amount</th>\n",
              "      <th>improvement_surcharge</th>\n",
              "      <th>total_amount</th>\n",
              "      <th>congestion_surcharge</th>\n",
              "      <th>Airport_fee</th>\n",
              "      <th>timestamp</th>\n",
              "    </tr>\n",
              "    <tr>\n",
              "      <th>tpep_pickup_datetime</th>\n",
              "      <th></th>\n",
              "      <th></th>\n",
              "      <th></th>\n",
              "      <th></th>\n",
              "      <th></th>\n",
              "      <th></th>\n",
              "      <th></th>\n",
              "      <th></th>\n",
              "      <th></th>\n",
              "      <th></th>\n",
              "      <th></th>\n",
              "      <th></th>\n",
              "      <th></th>\n",
              "      <th></th>\n",
              "      <th></th>\n",
              "      <th></th>\n",
              "      <th></th>\n",
              "      <th></th>\n",
              "      <th></th>\n",
              "    </tr>\n",
              "  </thead>\n",
              "  <tbody>\n",
              "    <tr>\n",
              "      <th>2023-01-01 00:02:40</th>\n",
              "      <td>1</td>\n",
              "      <td>2023-01-01 00:30:36</td>\n",
              "      <td>NaN</td>\n",
              "      <td>0.00</td>\n",
              "      <td>NaN</td>\n",
              "      <td>None</td>\n",
              "      <td>142</td>\n",
              "      <td>79</td>\n",
              "      <td>0</td>\n",
              "      <td>20.13</td>\n",
              "      <td>0.0</td>\n",
              "      <td>0.5</td>\n",
              "      <td>0.00</td>\n",
              "      <td>0.0</td>\n",
              "      <td>1.0</td>\n",
              "      <td>24.13</td>\n",
              "      <td>NaN</td>\n",
              "      <td>NaN</td>\n",
              "      <td>2023-01-01 00:00:00</td>\n",
              "    </tr>\n",
              "    <tr>\n",
              "      <th>2023-01-01 00:57:48</th>\n",
              "      <td>1</td>\n",
              "      <td>2023-01-01 01:12:34</td>\n",
              "      <td>NaN</td>\n",
              "      <td>0.00</td>\n",
              "      <td>NaN</td>\n",
              "      <td>None</td>\n",
              "      <td>237</td>\n",
              "      <td>263</td>\n",
              "      <td>0</td>\n",
              "      <td>12.00</td>\n",
              "      <td>1.0</td>\n",
              "      <td>0.5</td>\n",
              "      <td>2.55</td>\n",
              "      <td>0.0</td>\n",
              "      <td>1.0</td>\n",
              "      <td>21.55</td>\n",
              "      <td>NaN</td>\n",
              "      <td>NaN</td>\n",
              "      <td>2023-01-01 00:50:00</td>\n",
              "    </tr>\n",
              "    <tr>\n",
              "      <th>2023-01-01 00:55:37</th>\n",
              "      <td>2</td>\n",
              "      <td>2023-01-01 01:00:41</td>\n",
              "      <td>NaN</td>\n",
              "      <td>0.86</td>\n",
              "      <td>NaN</td>\n",
              "      <td>None</td>\n",
              "      <td>24</td>\n",
              "      <td>41</td>\n",
              "      <td>0</td>\n",
              "      <td>12.80</td>\n",
              "      <td>0.0</td>\n",
              "      <td>0.5</td>\n",
              "      <td>2.14</td>\n",
              "      <td>0.0</td>\n",
              "      <td>1.0</td>\n",
              "      <td>16.44</td>\n",
              "      <td>NaN</td>\n",
              "      <td>NaN</td>\n",
              "      <td>2023-01-01 00:50:00</td>\n",
              "    </tr>\n",
              "    <tr>\n",
              "      <th>2023-01-01 00:43:47</th>\n",
              "      <td>2</td>\n",
              "      <td>2023-01-01 00:56:12</td>\n",
              "      <td>NaN</td>\n",
              "      <td>5.36</td>\n",
              "      <td>NaN</td>\n",
              "      <td>None</td>\n",
              "      <td>88</td>\n",
              "      <td>229</td>\n",
              "      <td>0</td>\n",
              "      <td>24.51</td>\n",
              "      <td>0.0</td>\n",
              "      <td>0.5</td>\n",
              "      <td>4.28</td>\n",
              "      <td>0.0</td>\n",
              "      <td>1.0</td>\n",
              "      <td>32.79</td>\n",
              "      <td>NaN</td>\n",
              "      <td>NaN</td>\n",
              "      <td>2023-01-01 00:40:00</td>\n",
              "    </tr>\n",
              "    <tr>\n",
              "      <th>2023-01-01 00:34:00</th>\n",
              "      <td>2</td>\n",
              "      <td>2023-01-01 00:51:00</td>\n",
              "      <td>NaN</td>\n",
              "      <td>6.03</td>\n",
              "      <td>NaN</td>\n",
              "      <td>None</td>\n",
              "      <td>232</td>\n",
              "      <td>263</td>\n",
              "      <td>0</td>\n",
              "      <td>32.30</td>\n",
              "      <td>0.0</td>\n",
              "      <td>0.5</td>\n",
              "      <td>7.26</td>\n",
              "      <td>0.0</td>\n",
              "      <td>1.0</td>\n",
              "      <td>43.56</td>\n",
              "      <td>NaN</td>\n",
              "      <td>NaN</td>\n",
              "      <td>2023-01-01 00:30:00</td>\n",
              "    </tr>\n",
              "    <tr>\n",
              "      <th>...</th>\n",
              "      <td>...</td>\n",
              "      <td>...</td>\n",
              "      <td>...</td>\n",
              "      <td>...</td>\n",
              "      <td>...</td>\n",
              "      <td>...</td>\n",
              "      <td>...</td>\n",
              "      <td>...</td>\n",
              "      <td>...</td>\n",
              "      <td>...</td>\n",
              "      <td>...</td>\n",
              "      <td>...</td>\n",
              "      <td>...</td>\n",
              "      <td>...</td>\n",
              "      <td>...</td>\n",
              "      <td>...</td>\n",
              "      <td>...</td>\n",
              "      <td>...</td>\n",
              "      <td>...</td>\n",
              "    </tr>\n",
              "    <tr>\n",
              "      <th>2023-01-31 23:58:34</th>\n",
              "      <td>2</td>\n",
              "      <td>2023-02-01 00:12:33</td>\n",
              "      <td>NaN</td>\n",
              "      <td>3.05</td>\n",
              "      <td>NaN</td>\n",
              "      <td>None</td>\n",
              "      <td>107</td>\n",
              "      <td>48</td>\n",
              "      <td>0</td>\n",
              "      <td>15.80</td>\n",
              "      <td>0.0</td>\n",
              "      <td>0.5</td>\n",
              "      <td>3.96</td>\n",
              "      <td>0.0</td>\n",
              "      <td>1.0</td>\n",
              "      <td>23.76</td>\n",
              "      <td>NaN</td>\n",
              "      <td>NaN</td>\n",
              "      <td>2023-01-31 23:50:00</td>\n",
              "    </tr>\n",
              "    <tr>\n",
              "      <th>2023-01-31 23:31:09</th>\n",
              "      <td>2</td>\n",
              "      <td>2023-01-31 23:50:36</td>\n",
              "      <td>NaN</td>\n",
              "      <td>5.80</td>\n",
              "      <td>NaN</td>\n",
              "      <td>None</td>\n",
              "      <td>112</td>\n",
              "      <td>75</td>\n",
              "      <td>0</td>\n",
              "      <td>22.43</td>\n",
              "      <td>0.0</td>\n",
              "      <td>0.5</td>\n",
              "      <td>2.64</td>\n",
              "      <td>0.0</td>\n",
              "      <td>1.0</td>\n",
              "      <td>29.07</td>\n",
              "      <td>NaN</td>\n",
              "      <td>NaN</td>\n",
              "      <td>2023-01-31 23:30:00</td>\n",
              "    </tr>\n",
              "    <tr>\n",
              "      <th>2023-01-31 23:01:05</th>\n",
              "      <td>2</td>\n",
              "      <td>2023-01-31 23:25:36</td>\n",
              "      <td>NaN</td>\n",
              "      <td>4.67</td>\n",
              "      <td>NaN</td>\n",
              "      <td>None</td>\n",
              "      <td>114</td>\n",
              "      <td>239</td>\n",
              "      <td>0</td>\n",
              "      <td>17.61</td>\n",
              "      <td>0.0</td>\n",
              "      <td>0.5</td>\n",
              "      <td>5.32</td>\n",
              "      <td>0.0</td>\n",
              "      <td>1.0</td>\n",
              "      <td>26.93</td>\n",
              "      <td>NaN</td>\n",
              "      <td>NaN</td>\n",
              "      <td>2023-01-31 23:00:00</td>\n",
              "    </tr>\n",
              "    <tr>\n",
              "      <th>2023-01-31 23:40:00</th>\n",
              "      <td>2</td>\n",
              "      <td>2023-01-31 23:53:00</td>\n",
              "      <td>NaN</td>\n",
              "      <td>3.15</td>\n",
              "      <td>NaN</td>\n",
              "      <td>None</td>\n",
              "      <td>230</td>\n",
              "      <td>79</td>\n",
              "      <td>0</td>\n",
              "      <td>18.15</td>\n",
              "      <td>0.0</td>\n",
              "      <td>0.5</td>\n",
              "      <td>4.43</td>\n",
              "      <td>0.0</td>\n",
              "      <td>1.0</td>\n",
              "      <td>26.58</td>\n",
              "      <td>NaN</td>\n",
              "      <td>NaN</td>\n",
              "      <td>2023-01-31 23:40:00</td>\n",
              "    </tr>\n",
              "    <tr>\n",
              "      <th>2023-01-31 23:07:32</th>\n",
              "      <td>2</td>\n",
              "      <td>2023-01-31 23:21:56</td>\n",
              "      <td>NaN</td>\n",
              "      <td>2.85</td>\n",
              "      <td>NaN</td>\n",
              "      <td>None</td>\n",
              "      <td>262</td>\n",
              "      <td>143</td>\n",
              "      <td>0</td>\n",
              "      <td>15.97</td>\n",
              "      <td>0.0</td>\n",
              "      <td>0.5</td>\n",
              "      <td>2.00</td>\n",
              "      <td>0.0</td>\n",
              "      <td>1.0</td>\n",
              "      <td>21.97</td>\n",
              "      <td>NaN</td>\n",
              "      <td>NaN</td>\n",
              "      <td>2023-01-31 23:00:00</td>\n",
              "    </tr>\n",
              "  </tbody>\n",
              "</table>\n",
              "<p>71743 rows × 19 columns</p>\n",
              "</div>\n",
              "      <button class=\"colab-df-convert\" onclick=\"convertToInteractive('df-521d0ca5-f202-4e65-a83e-4d2a68343c10')\"\n",
              "              title=\"Convert this dataframe to an interactive table.\"\n",
              "              style=\"display:none;\">\n",
              "\n",
              "  <svg xmlns=\"http://www.w3.org/2000/svg\" height=\"24px\"viewBox=\"0 0 24 24\"\n",
              "       width=\"24px\">\n",
              "    <path d=\"M0 0h24v24H0V0z\" fill=\"none\"/>\n",
              "    <path d=\"M18.56 5.44l.94 2.06.94-2.06 2.06-.94-2.06-.94-.94-2.06-.94 2.06-2.06.94zm-11 1L8.5 8.5l.94-2.06 2.06-.94-2.06-.94L8.5 2.5l-.94 2.06-2.06.94zm10 10l.94 2.06.94-2.06 2.06-.94-2.06-.94-.94-2.06-.94 2.06-2.06.94z\"/><path d=\"M17.41 7.96l-1.37-1.37c-.4-.4-.92-.59-1.43-.59-.52 0-1.04.2-1.43.59L10.3 9.45l-7.72 7.72c-.78.78-.78 2.05 0 2.83L4 21.41c.39.39.9.59 1.41.59.51 0 1.02-.2 1.41-.59l7.78-7.78 2.81-2.81c.8-.78.8-2.07 0-2.86zM5.41 20L4 18.59l7.72-7.72 1.47 1.35L5.41 20z\"/>\n",
              "  </svg>\n",
              "      </button>\n",
              "\n",
              "\n",
              "\n",
              "    <div id=\"df-d153b5e4-0ef2-4e7b-9ae2-eb2b3ed6142a\">\n",
              "      <button class=\"colab-df-quickchart\" onclick=\"quickchart('df-d153b5e4-0ef2-4e7b-9ae2-eb2b3ed6142a')\"\n",
              "              title=\"Suggest charts.\"\n",
              "              style=\"display:none;\">\n",
              "\n",
              "<svg xmlns=\"http://www.w3.org/2000/svg\" height=\"24px\"viewBox=\"0 0 24 24\"\n",
              "     width=\"24px\">\n",
              "    <g>\n",
              "        <path d=\"M19 3H5c-1.1 0-2 .9-2 2v14c0 1.1.9 2 2 2h14c1.1 0 2-.9 2-2V5c0-1.1-.9-2-2-2zM9 17H7v-7h2v7zm4 0h-2V7h2v10zm4 0h-2v-4h2v4z\"/>\n",
              "    </g>\n",
              "</svg>\n",
              "      </button>\n",
              "    </div>\n",
              "\n",
              "<style>\n",
              "  .colab-df-quickchart {\n",
              "    background-color: #E8F0FE;\n",
              "    border: none;\n",
              "    border-radius: 50%;\n",
              "    cursor: pointer;\n",
              "    display: none;\n",
              "    fill: #1967D2;\n",
              "    height: 32px;\n",
              "    padding: 0 0 0 0;\n",
              "    width: 32px;\n",
              "  }\n",
              "\n",
              "  .colab-df-quickchart:hover {\n",
              "    background-color: #E2EBFA;\n",
              "    box-shadow: 0px 1px 2px rgba(60, 64, 67, 0.3), 0px 1px 3px 1px rgba(60, 64, 67, 0.15);\n",
              "    fill: #174EA6;\n",
              "  }\n",
              "\n",
              "  [theme=dark] .colab-df-quickchart {\n",
              "    background-color: #3B4455;\n",
              "    fill: #D2E3FC;\n",
              "  }\n",
              "\n",
              "  [theme=dark] .colab-df-quickchart:hover {\n",
              "    background-color: #434B5C;\n",
              "    box-shadow: 0px 1px 3px 1px rgba(0, 0, 0, 0.15);\n",
              "    filter: drop-shadow(0px 1px 2px rgba(0, 0, 0, 0.3));\n",
              "    fill: #FFFFFF;\n",
              "  }\n",
              "</style>\n",
              "\n",
              "    <script>\n",
              "      async function quickchart(key) {\n",
              "        const containerElement = document.querySelector('#' + key);\n",
              "        const charts = await google.colab.kernel.invokeFunction(\n",
              "            'suggestCharts', [key], {});\n",
              "      }\n",
              "    </script>\n",
              "\n",
              "      <script>\n",
              "\n",
              "function displayQuickchartButton(domScope) {\n",
              "  let quickchartButtonEl =\n",
              "    domScope.querySelector('#df-d153b5e4-0ef2-4e7b-9ae2-eb2b3ed6142a button.colab-df-quickchart');\n",
              "  quickchartButtonEl.style.display =\n",
              "    google.colab.kernel.accessAllowed ? 'block' : 'none';\n",
              "}\n",
              "\n",
              "        displayQuickchartButton(document);\n",
              "      </script>\n",
              "      <style>\n",
              "    .colab-df-container {\n",
              "      display:flex;\n",
              "      flex-wrap:wrap;\n",
              "      gap: 12px;\n",
              "    }\n",
              "\n",
              "    .colab-df-convert {\n",
              "      background-color: #E8F0FE;\n",
              "      border: none;\n",
              "      border-radius: 50%;\n",
              "      cursor: pointer;\n",
              "      display: none;\n",
              "      fill: #1967D2;\n",
              "      height: 32px;\n",
              "      padding: 0 0 0 0;\n",
              "      width: 32px;\n",
              "    }\n",
              "\n",
              "    .colab-df-convert:hover {\n",
              "      background-color: #E2EBFA;\n",
              "      box-shadow: 0px 1px 2px rgba(60, 64, 67, 0.3), 0px 1px 3px 1px rgba(60, 64, 67, 0.15);\n",
              "      fill: #174EA6;\n",
              "    }\n",
              "\n",
              "    [theme=dark] .colab-df-convert {\n",
              "      background-color: #3B4455;\n",
              "      fill: #D2E3FC;\n",
              "    }\n",
              "\n",
              "    [theme=dark] .colab-df-convert:hover {\n",
              "      background-color: #434B5C;\n",
              "      box-shadow: 0px 1px 3px 1px rgba(0, 0, 0, 0.15);\n",
              "      filter: drop-shadow(0px 1px 2px rgba(0, 0, 0, 0.3));\n",
              "      fill: #FFFFFF;\n",
              "    }\n",
              "  </style>\n",
              "\n",
              "      <script>\n",
              "        const buttonEl =\n",
              "          document.querySelector('#df-521d0ca5-f202-4e65-a83e-4d2a68343c10 button.colab-df-convert');\n",
              "        buttonEl.style.display =\n",
              "          google.colab.kernel.accessAllowed ? 'block' : 'none';\n",
              "\n",
              "        async function convertToInteractive(key) {\n",
              "          const element = document.querySelector('#df-521d0ca5-f202-4e65-a83e-4d2a68343c10');\n",
              "          const dataTable =\n",
              "            await google.colab.kernel.invokeFunction('convertToInteractive',\n",
              "                                                     [key], {});\n",
              "          if (!dataTable) return;\n",
              "\n",
              "          const docLinkHtml = 'Like what you see? Visit the ' +\n",
              "            '<a target=\"_blank\" href=https://colab.research.google.com/notebooks/data_table.ipynb>data table notebook</a>'\n",
              "            + ' to learn more about interactive tables.';\n",
              "          element.innerHTML = '';\n",
              "          dataTable['output_type'] = 'display_data';\n",
              "          await google.colab.output.renderOutput(dataTable, element);\n",
              "          const docLink = document.createElement('div');\n",
              "          docLink.innerHTML = docLinkHtml;\n",
              "          element.appendChild(docLink);\n",
              "        }\n",
              "      </script>\n",
              "    </div>\n",
              "  </div>\n"
            ],
            "text/plain": [
              "                      VendorID tpep_dropoff_datetime  passenger_count  \\\n",
              "tpep_pickup_datetime                                                    \n",
              "2023-01-01 00:02:40          1   2023-01-01 00:30:36              NaN   \n",
              "2023-01-01 00:57:48          1   2023-01-01 01:12:34              NaN   \n",
              "2023-01-01 00:55:37          2   2023-01-01 01:00:41              NaN   \n",
              "2023-01-01 00:43:47          2   2023-01-01 00:56:12              NaN   \n",
              "2023-01-01 00:34:00          2   2023-01-01 00:51:00              NaN   \n",
              "...                        ...                   ...              ...   \n",
              "2023-01-31 23:58:34          2   2023-02-01 00:12:33              NaN   \n",
              "2023-01-31 23:31:09          2   2023-01-31 23:50:36              NaN   \n",
              "2023-01-31 23:01:05          2   2023-01-31 23:25:36              NaN   \n",
              "2023-01-31 23:40:00          2   2023-01-31 23:53:00              NaN   \n",
              "2023-01-31 23:07:32          2   2023-01-31 23:21:56              NaN   \n",
              "\n",
              "                      trip_distance  RatecodeID store_and_fwd_flag  \\\n",
              "tpep_pickup_datetime                                                 \n",
              "2023-01-01 00:02:40            0.00         NaN               None   \n",
              "2023-01-01 00:57:48            0.00         NaN               None   \n",
              "2023-01-01 00:55:37            0.86         NaN               None   \n",
              "2023-01-01 00:43:47            5.36         NaN               None   \n",
              "2023-01-01 00:34:00            6.03         NaN               None   \n",
              "...                             ...         ...                ...   \n",
              "2023-01-31 23:58:34            3.05         NaN               None   \n",
              "2023-01-31 23:31:09            5.80         NaN               None   \n",
              "2023-01-31 23:01:05            4.67         NaN               None   \n",
              "2023-01-31 23:40:00            3.15         NaN               None   \n",
              "2023-01-31 23:07:32            2.85         NaN               None   \n",
              "\n",
              "                      PULocationID  DOLocationID  payment_type  fare_amount  \\\n",
              "tpep_pickup_datetime                                                          \n",
              "2023-01-01 00:02:40            142            79             0        20.13   \n",
              "2023-01-01 00:57:48            237           263             0        12.00   \n",
              "2023-01-01 00:55:37             24            41             0        12.80   \n",
              "2023-01-01 00:43:47             88           229             0        24.51   \n",
              "2023-01-01 00:34:00            232           263             0        32.30   \n",
              "...                            ...           ...           ...          ...   \n",
              "2023-01-31 23:58:34            107            48             0        15.80   \n",
              "2023-01-31 23:31:09            112            75             0        22.43   \n",
              "2023-01-31 23:01:05            114           239             0        17.61   \n",
              "2023-01-31 23:40:00            230            79             0        18.15   \n",
              "2023-01-31 23:07:32            262           143             0        15.97   \n",
              "\n",
              "                      extra  mta_tax  tip_amount  tolls_amount  \\\n",
              "tpep_pickup_datetime                                             \n",
              "2023-01-01 00:02:40     0.0      0.5        0.00           0.0   \n",
              "2023-01-01 00:57:48     1.0      0.5        2.55           0.0   \n",
              "2023-01-01 00:55:37     0.0      0.5        2.14           0.0   \n",
              "2023-01-01 00:43:47     0.0      0.5        4.28           0.0   \n",
              "2023-01-01 00:34:00     0.0      0.5        7.26           0.0   \n",
              "...                     ...      ...         ...           ...   \n",
              "2023-01-31 23:58:34     0.0      0.5        3.96           0.0   \n",
              "2023-01-31 23:31:09     0.0      0.5        2.64           0.0   \n",
              "2023-01-31 23:01:05     0.0      0.5        5.32           0.0   \n",
              "2023-01-31 23:40:00     0.0      0.5        4.43           0.0   \n",
              "2023-01-31 23:07:32     0.0      0.5        2.00           0.0   \n",
              "\n",
              "                      improvement_surcharge  total_amount  \\\n",
              "tpep_pickup_datetime                                        \n",
              "2023-01-01 00:02:40                     1.0         24.13   \n",
              "2023-01-01 00:57:48                     1.0         21.55   \n",
              "2023-01-01 00:55:37                     1.0         16.44   \n",
              "2023-01-01 00:43:47                     1.0         32.79   \n",
              "2023-01-01 00:34:00                     1.0         43.56   \n",
              "...                                     ...           ...   \n",
              "2023-01-31 23:58:34                     1.0         23.76   \n",
              "2023-01-31 23:31:09                     1.0         29.07   \n",
              "2023-01-31 23:01:05                     1.0         26.93   \n",
              "2023-01-31 23:40:00                     1.0         26.58   \n",
              "2023-01-31 23:07:32                     1.0         21.97   \n",
              "\n",
              "                      congestion_surcharge  Airport_fee           timestamp  \n",
              "tpep_pickup_datetime                                                         \n",
              "2023-01-01 00:02:40                    NaN          NaN 2023-01-01 00:00:00  \n",
              "2023-01-01 00:57:48                    NaN          NaN 2023-01-01 00:50:00  \n",
              "2023-01-01 00:55:37                    NaN          NaN 2023-01-01 00:50:00  \n",
              "2023-01-01 00:43:47                    NaN          NaN 2023-01-01 00:40:00  \n",
              "2023-01-01 00:34:00                    NaN          NaN 2023-01-01 00:30:00  \n",
              "...                                    ...          ...                 ...  \n",
              "2023-01-31 23:58:34                    NaN          NaN 2023-01-31 23:50:00  \n",
              "2023-01-31 23:31:09                    NaN          NaN 2023-01-31 23:30:00  \n",
              "2023-01-31 23:01:05                    NaN          NaN 2023-01-31 23:00:00  \n",
              "2023-01-31 23:40:00                    NaN          NaN 2023-01-31 23:40:00  \n",
              "2023-01-31 23:07:32                    NaN          NaN 2023-01-31 23:00:00  \n",
              "\n",
              "[71743 rows x 19 columns]"
            ]
          },
          "execution_count": 49,
          "metadata": {},
          "output_type": "execute_result"
        }
      ],
      "source": [
        "df1.query(\"passenger_count.isna() & RatecodeID.isna() & store_and_fwd_flag.isnull() & payment_type == 0 & Airport_fee.isna()\")"
      ]
    },
    {
      "cell_type": "markdown",
      "metadata": {
        "id": "OD_uaU0U2KaK"
      },
      "source": [
        "trying to use correltaion to findout if passenger_count is realted to any other variable or not. Beacuse correlations are too low, we can see that passenger_count is missing completly at random(MCAR)"
      ]
    },
    {
      "cell_type": "code",
      "execution_count": 50,
      "metadata": {
        "colab": {
          "base_uri": "https://localhost:8080/"
        },
        "id": "CvxfU7E1eyyX",
        "outputId": "187087bd-a30b-46bd-98a2-faff8f0c1521"
      },
      "outputs": [
        {
          "name": "stderr",
          "output_type": "stream",
          "text": [
            "<ipython-input-50-07b979b6bbfa>:3: FutureWarning: The default value of numeric_only in DataFrame.corr is deprecated. In a future version, it will default to False. Select only valid columns or specify the value of numeric_only to silence this warning.\n",
            "  corr_matrix = df1.corr()[target_col]\n"
          ]
        },
        {
          "name": "stdout",
          "output_type": "stream",
          "text": [
            "passenger_count          1.000000\n",
            "VendorID                 0.101141\n",
            "fare_amount              0.032408\n",
            "total_amount             0.030691\n",
            "tolls_amount             0.024628\n",
            "Airport_fee              0.012267\n",
            "tip_amount               0.012015\n",
            "congestion_surcharge     0.010283\n",
            "payment_type             0.009472\n",
            "improvement_surcharge    0.003894\n",
            "trip_distance            0.002788\n",
            "mta_tax                 -0.004493\n",
            "DOLocationID            -0.005878\n",
            "PULocationID            -0.011434\n",
            "RatecodeID              -0.025028\n",
            "extra                   -0.059212\n",
            "Name: passenger_count, dtype: float64\n"
          ]
        }
      ],
      "source": [
        "target_col = 'passenger_count'\n",
        "\n",
        "corr_matrix = df1.corr()[target_col]\n",
        "\n",
        "print(corr_matrix.sort_values(ascending=False))"
      ]
    },
    {
      "cell_type": "code",
      "execution_count": 51,
      "metadata": {
        "id": "hIex2mVtPFzj"
      },
      "outputs": [],
      "source": [
        "def impute_passenger_count(x):\n",
        "  missed_passengers = x[x.passenger_count.isna()]\n",
        "  if len(missed_passengers) != 0:\n",
        "    median_passengers = x.groupby('PULocationID')['passenger_count'].agg(np.median).reset_index()\n",
        "    joined_x = pd.merge(missed_passengers, median_passengers, on='PULocationID', how='inner')\n",
        "    x['passenger_count'].loc[x.passenger_count.isna()] = joined_x['passenger_count_y']\n",
        "    x['passenger_count'].fillna(0, inplace=True)\n",
        "  return x"
      ]
    },
    {
      "cell_type": "markdown",
      "metadata": {
        "id": "dvxknIGflzHf"
      },
      "source": []
    },
    {
      "cell_type": "code",
      "execution_count": 52,
      "metadata": {
        "colab": {
          "base_uri": "https://localhost:8080/"
        },
        "id": "ONOxdilEm7bg",
        "outputId": "cdfee36c-1fa5-4a4a-bb58-a93d6c81d7a4"
      },
      "outputs": [
        {
          "name": "stderr",
          "output_type": "stream",
          "text": [
            "<ipython-input-52-ee011da2277c>:1: FutureWarning: Not prepending group keys to the result index of transform-like apply. In the future, the group keys will be included in the index, regardless of whether the applied function returns a like-indexed object.\n",
            "To preserve the previous behavior, use\n",
            "\n",
            "\t>>> .groupby(..., group_keys=False)\n",
            "\n",
            "To adopt the future behavior and silence this warning, use \n",
            "\n",
            "\t>>> .groupby(..., group_keys=True)\n",
            "  df_imputed = df1.groupby(pd.Grouper(freq='10T')).apply(impute_passenger_count)\n"
          ]
        }
      ],
      "source": [
        "df_imputed = df1.groupby(pd.Grouper(freq='10T')).apply(impute_passenger_count)"
      ]
    },
    {
      "cell_type": "markdown",
      "metadata": {
        "id": "rw69TOQ6emcU"
      },
      "source": [
        "**Compare summary statistics:** Calculate summary statistics such as mean, median, standard deviation, and variance for the original data and the imputed data, and compare them to ensure that they are similar. Large differences in these statistics could indicate bias in the imputed data."
      ]
    },
    {
      "cell_type": "code",
      "execution_count": 53,
      "metadata": {
        "colab": {
          "base_uri": "https://localhost:8080/"
        },
        "id": "aJSaNNQNem0X",
        "outputId": "1a447d37-318a-4753-a513-df1d496caeb6"
      },
      "outputs": [
        {
          "data": {
            "text/plain": [
              "count    2.994975e+06\n",
              "mean     1.362534e+00\n",
              "std      8.961228e-01\n",
              "min      0.000000e+00\n",
              "25%      1.000000e+00\n",
              "50%      1.000000e+00\n",
              "75%      1.000000e+00\n",
              "max      9.000000e+00\n",
              "Name: passenger_count, dtype: float64"
            ]
          },
          "execution_count": 53,
          "metadata": {},
          "output_type": "execute_result"
        }
      ],
      "source": [
        "df1.passenger_count.describe()"
      ]
    },
    {
      "cell_type": "code",
      "execution_count": 54,
      "metadata": {
        "colab": {
          "base_uri": "https://localhost:8080/"
        },
        "id": "DpqvCQNqfcZr",
        "outputId": "c99e6c69-79fb-41d1-e326-9d64cdc19758"
      },
      "outputs": [
        {
          "data": {
            "text/plain": [
              "count    3.066718e+06\n",
              "mean     1.330659e+00\n",
              "std      9.092111e-01\n",
              "min      0.000000e+00\n",
              "25%      1.000000e+00\n",
              "50%      1.000000e+00\n",
              "75%      1.000000e+00\n",
              "max      9.000000e+00\n",
              "Name: passenger_count, dtype: float64"
            ]
          },
          "execution_count": 54,
          "metadata": {},
          "output_type": "execute_result"
        }
      ],
      "source": [
        "df_imputed.passenger_count.describe()"
      ]
    },
    {
      "cell_type": "markdown",
      "metadata": {
        "id": "CySlUJDseJqu"
      },
      "source": [
        "as we can see, std and mean of passenger_count before and after imputing missing values are quite similar"
      ]
    },
    {
      "cell_type": "code",
      "execution_count": 55,
      "metadata": {
        "colab": {
          "base_uri": "https://localhost:8080/"
        },
        "id": "4csbVSdxR7oK",
        "outputId": "b6c58db6-601e-465e-ee24-d46667855f73"
      },
      "outputs": [
        {
          "data": {
            "text/plain": [
              "1.0    2261360\n",
              "2.0     451530\n",
              "3.0     106352\n",
              "4.0      53745\n",
              "0.0      51164\n",
              "5.0      42680\n",
              "6.0      28124\n",
              "8.0         13\n",
              "7.0          6\n",
              "9.0          1\n",
              "Name: passenger_count, dtype: int64"
            ]
          },
          "execution_count": 55,
          "metadata": {},
          "output_type": "execute_result"
        }
      ],
      "source": [
        "df1.passenger_count.value_counts()"
      ]
    },
    {
      "cell_type": "code",
      "execution_count": 56,
      "metadata": {
        "colab": {
          "base_uri": "https://localhost:8080/"
        },
        "id": "zvL1Ed0CSBgW",
        "outputId": "bfaacd0a-4fab-4cc8-bec8-df61472700e0"
      },
      "outputs": [
        {
          "data": {
            "text/plain": [
              "1.0    2261360\n",
              "2.0     451530\n",
              "0.0     122907\n",
              "3.0     106352\n",
              "4.0      53745\n",
              "5.0      42680\n",
              "6.0      28124\n",
              "8.0         13\n",
              "7.0          6\n",
              "9.0          1\n",
              "Name: passenger_count, dtype: int64"
            ]
          },
          "execution_count": 56,
          "metadata": {},
          "output_type": "execute_result"
        }
      ],
      "source": [
        "df_imputed.passenger_count.value_counts()"
      ]
    },
    {
      "cell_type": "markdown",
      "metadata": {
        "id": "k-42OKSO4ycj"
      },
      "source": [
        "### Find out columns which has 50% or more null values and drop them"
      ]
    },
    {
      "cell_type": "code",
      "execution_count": 57,
      "metadata": {
        "colab": {
          "base_uri": "https://localhost:8080/"
        },
        "id": "scstVG5zaFkq",
        "outputId": "11be3e6e-173b-4680-f73d-c852e03e73d0"
      },
      "outputs": [
        {
          "name": "stdout",
          "output_type": "stream",
          "text": [
            "Dropped columns: Index([], dtype='object')\n"
          ]
        }
      ],
      "source": [
        "null_percent = (df_imputed.isnull()).sum() / len(df_imputed) * 100\n",
        "\n",
        "# Drop columns with 50% or more null values\n",
        "drop_cols = null_percent[null_percent >= 50].index\n",
        "df_imputed = df_imputed.drop(drop_cols, axis=1)\n",
        "\n",
        "print(f\"Dropped columns: {drop_cols}\")"
      ]
    },
    {
      "cell_type": "markdown",
      "metadata": {
        "id": "oUMF4knJ9rMC"
      },
      "source": [
        "### imputing less important variables by its frequency or mode.\n",
        "store_and_fwd_flag, retecodeid, congestion_surchage and airport_fee"
      ]
    },
    {
      "cell_type": "code",
      "execution_count": 58,
      "metadata": {
        "id": "3PJSK2Nm-HCr"
      },
      "outputs": [],
      "source": [
        "mode_val = df_imputed[\"store_and_fwd_flag\"].mode()[0]  # Calculate the mode of the column\n",
        "df_imputed[\"store_and_fwd_flag\"].fillna(mode_val, inplace=True)\n",
        "\n",
        "mode_val = df_imputed[\"RatecodeID\"].mode()[0]\n",
        "df_imputed[\"RatecodeID\"].fillna(mode_val, inplace=True)"
      ]
    },
    {
      "cell_type": "code",
      "execution_count": 59,
      "metadata": {
        "colab": {
          "base_uri": "https://localhost:8080/"
        },
        "id": "ia3IaVfsrDDu",
        "outputId": "cc3b9e31-4733-4592-ce1a-0400abb840c5"
      },
      "outputs": [
        {
          "data": {
            "text/plain": [
              "count    2.994975e+06\n",
              "mean     2.274238e+00\n",
              "std      7.718378e-01\n",
              "min     -2.500000e+00\n",
              "25%      2.500000e+00\n",
              "50%      2.500000e+00\n",
              "75%      2.500000e+00\n",
              "max      2.500000e+00\n",
              "Name: congestion_surcharge, dtype: float64"
            ]
          },
          "execution_count": 59,
          "metadata": {},
          "output_type": "execute_result"
        }
      ],
      "source": [
        "df_imputed.congestion_surcharge.describe()"
      ]
    },
    {
      "cell_type": "code",
      "execution_count": 60,
      "metadata": {
        "id": "j3ixsuxCrmXI"
      },
      "outputs": [],
      "source": [
        "df_imputed.congestion_surcharge.fillna(0, inplace=True)"
      ]
    },
    {
      "cell_type": "code",
      "execution_count": 61,
      "metadata": {
        "colab": {
          "base_uri": "https://localhost:8080/"
        },
        "id": "q_37AWMvrtLm",
        "outputId": "8dee00e2-c8a5-45ba-f9f9-acf3f0af8ce9"
      },
      "outputs": [
        {
          "data": {
            "text/plain": [
              "count    3.066718e+06\n",
              "mean     2.221034e+00\n",
              "std      8.366386e-01\n",
              "min     -2.500000e+00\n",
              "25%      2.500000e+00\n",
              "50%      2.500000e+00\n",
              "75%      2.500000e+00\n",
              "max      2.500000e+00\n",
              "Name: congestion_surcharge, dtype: float64"
            ]
          },
          "execution_count": 61,
          "metadata": {},
          "output_type": "execute_result"
        }
      ],
      "source": [
        "df_imputed.congestion_surcharge.describe()"
      ]
    },
    {
      "cell_type": "code",
      "execution_count": 63,
      "metadata": {
        "colab": {
          "base_uri": "https://localhost:8080/"
        },
        "id": "IaKb_PVfsuI9",
        "outputId": "aeb596db-ca98-4548-ad99-ebfe3cad073f"
      },
      "outputs": [
        {
          "data": {
            "text/plain": [
              "count    2.994975e+06\n",
              "mean     1.074082e-01\n",
              "std      3.556507e-01\n",
              "min     -1.250000e+00\n",
              "25%      0.000000e+00\n",
              "50%      0.000000e+00\n",
              "75%      0.000000e+00\n",
              "max      1.250000e+00\n",
              "Name: Airport_fee, dtype: float64"
            ]
          },
          "execution_count": 63,
          "metadata": {},
          "output_type": "execute_result"
        }
      ],
      "source": [
        "df_imputed.Airport_fee.describe()"
      ]
    },
    {
      "cell_type": "code",
      "execution_count": 64,
      "metadata": {
        "id": "WCZyVEHxs1iG"
      },
      "outputs": [],
      "source": [
        "df_imputed.Airport_fee.fillna(0, inplace=True)"
      ]
    },
    {
      "cell_type": "code",
      "execution_count": 65,
      "metadata": {
        "colab": {
          "base_uri": "https://localhost:8080/"
        },
        "id": "Sjr3V93mtLoP",
        "outputId": "d915f854-8aee-4436-a8a6-37d76cb3991d"
      },
      "outputs": [
        {
          "data": {
            "text/plain": [
              "count    3.066718e+06\n",
              "mean     1.048955e-01\n",
              "std      3.518408e-01\n",
              "min     -1.250000e+00\n",
              "25%      0.000000e+00\n",
              "50%      0.000000e+00\n",
              "75%      0.000000e+00\n",
              "max      1.250000e+00\n",
              "Name: Airport_fee, dtype: float64"
            ]
          },
          "execution_count": 65,
          "metadata": {},
          "output_type": "execute_result"
        }
      ],
      "source": [
        "df_imputed.Airport_fee.describe()"
      ]
    },
    {
      "attachments": {},
      "cell_type": "markdown",
      "metadata": {},
      "source": [
        "### Save dataset"
      ]
    },
    {
      "cell_type": "code",
      "execution_count": null,
      "metadata": {
        "id": "z7sqd4dwcUm-"
      },
      "outputs": [],
      "source": [
        "df_imputed.to_parquet(\"imputed_dataset.parquet\")"
      ]
    }
  ],
  "metadata": {
    "accelerator": "GPU",
    "colab": {
      "gpuType": "T4",
      "provenance": []
    },
    "kernelspec": {
      "display_name": "Python 3.10.6 64-bit",
      "language": "python",
      "name": "python3"
    },
    "language_info": {
      "name": "python",
      "version": "3.10.6"
    },
    "vscode": {
      "interpreter": {
        "hash": "916dbcbb3f70747c44a77c7bcd40155683ae19c65e1c03b4aa3499c5328201f1"
      }
    }
  },
  "nbformat": 4,
  "nbformat_minor": 0
}
