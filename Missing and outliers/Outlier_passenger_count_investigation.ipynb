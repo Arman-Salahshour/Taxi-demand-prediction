{
  "cells": [
    {
      "cell_type": "code",
      "execution_count": 1,
      "metadata": {
        "id": "6NsEOt7Uwg0U"
      },
      "outputs": [],
      "source": [
        "\"\"\"\n",
        "This is an investigation code. It will be executed as a py file in CleanDatasetPackage folder.\n",
        "\"\"\"\n",
        "import pandas as pd\n",
        "import geopandas as gpd\n",
        "import numpy as np\n",
        "import matplotlib.pyplot as plt\n",
        "import seaborn as sns\n",
        "from datetime import datetime, timedelta\n",
        "from sklearn.ensemble import IsolationForest\n",
        "from scipy.stats import kstest\n",
        "from scipy.stats import anderson\n",
        "from scipy.stats import ttest_ind\n",
        "from scipy.stats import zscore"
      ]
    },
    {
      "cell_type": "code",
      "execution_count": 2,
      "metadata": {
        "colab": {
          "base_uri": "https://localhost:8080/"
        },
        "id": "Lk-XbY35wpB0",
        "outputId": "852af46f-5f95-40f3-b113-ad162b859b2f"
      },
      "outputs": [
        {
          "name": "stdout",
          "output_type": "stream",
          "text": [
            "Drive already mounted at /content/drive; to attempt to forcibly remount, call drive.mount(\"/content/drive\", force_remount=True).\n"
          ]
        }
      ],
      "source": [
        "from google.colab import drive\n",
        "drive.mount('/content/drive')"
      ]
    },
    {
      "cell_type": "code",
      "execution_count": 3,
      "metadata": {
        "id": "UYDpOtBs_teh"
      },
      "outputs": [],
      "source": [
        "# df1 is dataset for the first month\n",
        "df1 = pd.read_parquet('drive/MyDrive/data1.parquet')\n",
        "df1.rename(columns={'airport_fee': 'Airport_fee'}, inplace=True)"
      ]
    },
    {
      "cell_type": "code",
      "execution_count": 4,
      "metadata": {
        "id": "y_sLdlBV2s5G"
      },
      "outputs": [],
      "source": [
        "df1[\"duration\"] = df1[\"tpep_pickup_datetime\"] - df1[\"tpep_dropoff_datetime\"]"
      ]
    },
    {
      "cell_type": "code",
      "execution_count": 5,
      "metadata": {
        "id": "LCxs40IXxKTT"
      },
      "outputs": [],
      "source": [
        "df_imputed = df1.copy()"
      ]
    },
    {
      "cell_type": "markdown",
      "metadata": {
        "id": "lhTAHSpOWdK1"
      },
      "source": [
        "## For test purpose, impute passenger count with median"
      ]
    },
    {
      "cell_type": "code",
      "execution_count": 6,
      "metadata": {
        "id": "aJ0fMYHKAhvO"
      },
      "outputs": [],
      "source": [
        "df_imputed.passenger_count.fillna(df_imputed.passenger_count.median(), inplace=True)\n",
        "df1.passenger_count.fillna(df1.passenger_count.median(), inplace=True)"
      ]
    },
    {
      "cell_type": "markdown",
      "metadata": {
        "id": "8YcpvR48fszv"
      },
      "source": [
        "### Method 1 : Using Isolation Forest to identify passenger_count outliers and using Quantile based flooring and capping to impute outliers"
      ]
    },
    {
      "cell_type": "code",
      "execution_count": 8,
      "metadata": {
        "colab": {
          "base_uri": "https://localhost:8080/"
        },
        "id": "nO1ZczX7zZkx",
        "outputId": "fe751811-36b1-4b9b-c050-64b50f8181e3"
      },
      "outputs": [
        {
          "name": "stderr",
          "output_type": "stream",
          "text": [
            "/usr/local/lib/python3.10/dist-packages/sklearn/base.py:439: UserWarning: X does not have valid feature names, but IsolationForest was fitted with feature names\n",
            "  warnings.warn(\n"
          ]
        }
      ],
      "source": [
        "def isolated_forest_and_quantile(df):\n",
        "    features = ['passenger_count']\n",
        "    # Create an Isolation Forest model with contamination set to 0.05 (5% of data are expected to be outliers)\n",
        "    iso_forest = IsolationForest(n_estimators=100, contamination=0.05)\n",
        "    iso_forest.fit(df[features])\n",
        "    # Predict the outliers using the model\n",
        "    outliers = iso_forest.predict(df[features])\n",
        "    outlier_mask = outliers == -1\n",
        "    outliers_data = df[outlier_mask]\n",
        "    mask = df.isin(outliers_data.to_dict('list')).all(axis=1)\n",
        "\n",
        "    # flooring and capping\n",
        "    floor = min(df.loc[~mask, 'passenger_count'].unique())\n",
        "    cap = max(df.loc[~mask, 'passenger_count'].unique())\n",
        "    df.loc[mask, 'passenger_count'] = df.loc[mask, 'passenger_count'].clip(lower=floor, upper=cap)\n",
        "    return df\n",
        "\n",
        "df_imputed = isolated_forest_and_quantile(df_imputed)"
      ]
    },
    {
      "cell_type": "code",
      "execution_count": 9,
      "metadata": {
        "colab": {
          "base_uri": "https://localhost:8080/"
        },
        "id": "t9NkxKt2RWhJ",
        "outputId": "8a61ca8c-d711-45b3-e92e-fa33c4347787"
      },
      "outputs": [
        {
          "data": {
            "text/plain": [
              "1.0    2333143\n",
              "2.0     451536\n",
              "3.0     106353\n",
              "4.0      53745\n",
              "0.0      51164\n",
              "5.0      42681\n",
              "6.0      28124\n",
              "8.0         13\n",
              "7.0          6\n",
              "9.0          1\n",
              "Name: passenger_count, dtype: int64"
            ]
          },
          "execution_count": 9,
          "metadata": {},
          "output_type": "execute_result"
        }
      ],
      "source": [
        "df1.passenger_count.value_counts()"
      ]
    },
    {
      "cell_type": "code",
      "execution_count": 10,
      "metadata": {
        "colab": {
          "base_uri": "https://localhost:8080/"
        },
        "id": "ugGmw99-u_Yo",
        "outputId": "75510096-4c57-4f00-dfb4-3f23c1ca8941"
      },
      "outputs": [
        {
          "data": {
            "text/plain": [
              "1.0    2384307\n",
              "2.0     451536\n",
              "4.0     124570\n",
              "3.0     106353\n",
              "Name: passenger_count, dtype: int64"
            ]
          },
          "execution_count": 10,
          "metadata": {},
          "output_type": "execute_result"
        }
      ],
      "source": [
        "df_imputed.passenger_count.value_counts()"
      ]
    },
    {
      "cell_type": "markdown",
      "metadata": {
        "id": "GVU4-Qg8X89u"
      },
      "source": [
        "So 0, 5, 6, 7, 8, 9 are outliers"
      ]
    },
    {
      "cell_type": "code",
      "execution_count": 11,
      "metadata": {
        "colab": {
          "base_uri": "https://localhost:8080/"
        },
        "id": "K5tf7r9mqjLo",
        "outputId": "61ebdc58-12ad-480d-fc0a-3cf2647bfb66"
      },
      "outputs": [
        {
          "data": {
            "text/plain": [
              "count    3.066766e+06\n",
              "mean     1.354051e+00\n",
              "std      8.872699e-01\n",
              "min      0.000000e+00\n",
              "25%      1.000000e+00\n",
              "50%      1.000000e+00\n",
              "75%      1.000000e+00\n",
              "max      9.000000e+00\n",
              "Name: passenger_count, dtype: float64"
            ]
          },
          "execution_count": 11,
          "metadata": {},
          "output_type": "execute_result"
        }
      ],
      "source": [
        "df1.passenger_count.describe()"
      ]
    },
    {
      "cell_type": "code",
      "execution_count": 12,
      "metadata": {
        "colab": {
          "base_uri": "https://localhost:8080/"
        },
        "id": "tv_HcoKwu8v9",
        "outputId": "69c9c35b-3e0c-4bf9-e701-3d9782f9d959"
      },
      "outputs": [
        {
          "data": {
            "text/plain": [
              "count    3.066766e+06\n",
              "mean     1.338452e+00\n",
              "std      7.327870e-01\n",
              "min      1.000000e+00\n",
              "25%      1.000000e+00\n",
              "50%      1.000000e+00\n",
              "75%      1.000000e+00\n",
              "max      4.000000e+00\n",
              "Name: passenger_count, dtype: float64"
            ]
          },
          "execution_count": 12,
          "metadata": {},
          "output_type": "execute_result"
        }
      ],
      "source": [
        "df_imputed.passenger_count.describe()"
      ]
    },
    {
      "cell_type": "markdown",
      "metadata": {
        "id": "GuFptXllgGqA"
      },
      "source": [
        "as we can see, the outliers from z-score and Isolation forest are quite similar."
      ]
    },
    {
      "cell_type": "markdown",
      "metadata": {
        "id": "dZFfiFh8aqL6"
      },
      "source": [
        "### Test for outliers for method 1\n",
        "Coefficient of variation (CV): This metric measures the ratio of the standard deviation to the mean of the target variable. A lower CV indicates less variability relative to the mean, which can be a desirable outcome after outlier handling."
      ]
    },
    {
      "cell_type": "code",
      "execution_count": 13,
      "metadata": {
        "colab": {
          "base_uri": "https://localhost:8080/"
        },
        "id": "EKJ2oElIkY_1",
        "outputId": "389633e9-ee1a-4680-a9c1-8ad6481fa6a6"
      },
      "outputs": [
        {
          "name": "stdout",
          "output_type": "stream",
          "text": [
            "Coefficient of variation: 65.52704735504582\n"
          ]
        }
      ],
      "source": [
        "passenger_counts = df1['passenger_count'].values\n",
        "mean = np.mean(passenger_counts)\n",
        "std_dev = np.std(passenger_counts)\n",
        "\n",
        "# Calculate the coefficient of variation\n",
        "cv = (std_dev / mean) * 100\n",
        "\n",
        "print(\"Coefficient of variation:\", cv)\n"
      ]
    },
    {
      "cell_type": "code",
      "execution_count": 14,
      "metadata": {
        "colab": {
          "base_uri": "https://localhost:8080/"
        },
        "id": "FzXqrdJuZBOm",
        "outputId": "38747389-1d86-4383-f6b1-0158e1e03824"
      },
      "outputs": [
        {
          "name": "stdout",
          "output_type": "stream",
          "text": [
            "Coefficient of variation: 54.74884675735313\n"
          ]
        }
      ],
      "source": [
        "passenger_counts = df_imputed['passenger_count'].values\n",
        "mean = np.mean(passenger_counts)\n",
        "std_dev = np.std(passenger_counts)\n",
        "\n",
        "# Calculate the coefficient of variation\n",
        "cv = (std_dev / mean) * 100\n",
        "\n",
        "print(\"Coefficient of variation:\", cv)\n"
      ]
    },
    {
      "cell_type": "code",
      "execution_count": 15,
      "metadata": {
        "id": "fgnIq4rWa_Ih"
      },
      "outputs": [],
      "source": [
        "df_imputed = df1.copy()"
      ]
    },
    {
      "cell_type": "markdown",
      "metadata": {
        "id": "off-n20xgRN-"
      },
      "source": [
        "### Method 2 : Using Z-score to identify outliers and Quantile based flooring and capping to impute outliers"
      ]
    },
    {
      "cell_type": "code",
      "execution_count": 16,
      "metadata": {
        "colab": {
          "base_uri": "https://localhost:8080/"
        },
        "id": "TUqiqEv6g2Ru",
        "outputId": "a8e96bd1-e5bc-4963-c8cf-51b816279a13"
      },
      "outputs": [
        {
          "data": {
            "text/plain": [
              "1.0    2333143\n",
              "2.0     451536\n",
              "3.0     106353\n",
              "4.0      53745\n",
              "0.0      51164\n",
              "5.0      42681\n",
              "6.0      28124\n",
              "8.0         13\n",
              "7.0          6\n",
              "9.0          1\n",
              "Name: passenger_count, dtype: int64"
            ]
          },
          "execution_count": 16,
          "metadata": {},
          "output_type": "execute_result"
        }
      ],
      "source": [
        "df_imputed.passenger_count.value_counts()"
      ]
    },
    {
      "cell_type": "code",
      "execution_count": 17,
      "metadata": {
        "id": "NQIYbfqoIPjs"
      },
      "outputs": [],
      "source": [
        "df_imputed['zscore'] = zscore(df_imputed['passenger_count'])\n",
        "outliers_mask = (df_imputed['zscore'] > 4) | (df_imputed['zscore'] < -4)\n",
        "outliers = df_imputed.loc[outliers_mask, 'passenger_count']"
      ]
    },
    {
      "cell_type": "code",
      "execution_count": 18,
      "metadata": {
        "colab": {
          "base_uri": "https://localhost:8080/"
        },
        "id": "JcM7VA6dil9O",
        "outputId": "d4602657-31e3-46f0-f31a-96c880d11126"
      },
      "outputs": [
        {
          "data": {
            "text/plain": [
              "array([5., 6., 8., 7., 9.])"
            ]
          },
          "execution_count": 18,
          "metadata": {},
          "output_type": "execute_result"
        }
      ],
      "source": [
        "outliers.unique()"
      ]
    },
    {
      "cell_type": "code",
      "execution_count": 19,
      "metadata": {
        "id": "K8GFjWwMIT8P"
      },
      "outputs": [],
      "source": [
        "floor = min(df_imputed.loc[~outliers_mask, 'passenger_count'].unique())\n",
        "cap = max(df_imputed.loc[~outliers_mask, 'passenger_count'].unique())\n",
        "df_imputed.loc[outliers_mask, 'passenger_count'] = outliers.clip(lower=floor, upper=cap)"
      ]
    },
    {
      "cell_type": "code",
      "execution_count": 20,
      "metadata": {
        "colab": {
          "base_uri": "https://localhost:8080/"
        },
        "id": "9RYCD3FOvBFt",
        "outputId": "fba756cd-9c89-45e6-8008-286bfd6bb411"
      },
      "outputs": [
        {
          "data": {
            "text/plain": [
              "1.0    2333143\n",
              "2.0     451536\n",
              "4.0     124570\n",
              "3.0     106353\n",
              "0.0      51164\n",
              "Name: passenger_count, dtype: int64"
            ]
          },
          "execution_count": 20,
          "metadata": {},
          "output_type": "execute_result"
        }
      ],
      "source": [
        "df_imputed.passenger_count.value_counts()"
      ]
    },
    {
      "cell_type": "markdown",
      "metadata": {
        "id": "wM8DZx5DYKyU"
      },
      "source": [
        "So 5, 6, 7, 8, 9 are outliers"
      ]
    },
    {
      "cell_type": "code",
      "execution_count": 21,
      "metadata": {
        "colab": {
          "base_uri": "https://localhost:8080/"
        },
        "id": "2O_Ucq8de_iM",
        "outputId": "593ec1e4-ab97-4400-9119-ab9c1548f640"
      },
      "outputs": [
        {
          "data": {
            "text/plain": [
              "count    3.066766e+06\n",
              "mean     1.354051e+00\n",
              "std      8.872699e-01\n",
              "min      0.000000e+00\n",
              "25%      1.000000e+00\n",
              "50%      1.000000e+00\n",
              "75%      1.000000e+00\n",
              "max      9.000000e+00\n",
              "Name: passenger_count, dtype: float64"
            ]
          },
          "execution_count": 21,
          "metadata": {},
          "output_type": "execute_result"
        }
      ],
      "source": [
        "df1.passenger_count.describe()"
      ]
    },
    {
      "cell_type": "code",
      "execution_count": 22,
      "metadata": {
        "colab": {
          "base_uri": "https://localhost:8080/"
        },
        "id": "HF3RPL-HfGKV",
        "outputId": "9be723f7-dd51-4ed5-b234-bd8030a4b67c"
      },
      "outputs": [
        {
          "data": {
            "text/plain": [
              "count    3.066766e+06\n",
              "mean     1.321768e+00\n",
              "std      7.514485e-01\n",
              "min      0.000000e+00\n",
              "25%      1.000000e+00\n",
              "50%      1.000000e+00\n",
              "75%      1.000000e+00\n",
              "max      4.000000e+00\n",
              "Name: passenger_count, dtype: float64"
            ]
          },
          "execution_count": 22,
          "metadata": {},
          "output_type": "execute_result"
        }
      ],
      "source": [
        "df_imputed.passenger_count.describe()"
      ]
    },
    {
      "cell_type": "markdown",
      "metadata": {
        "id": "fbRxR_SMgryH"
      },
      "source": [
        "the description of passenger_count with ouliers and passenger_count without outliers are similar. So our data isn't biased."
      ]
    },
    {
      "cell_type": "markdown",
      "metadata": {
        "id": "8nWPdV-qlvsK"
      },
      "source": [
        "### CounterPlot of dataset before outlier handling"
      ]
    },
    {
      "cell_type": "code",
      "execution_count": 30,
      "metadata": {
        "colab": {
          "base_uri": "https://localhost:8080/",
          "height": 489
        },
        "id": "4JwIDnVIZcQz",
        "outputId": "23b39463-3767-480c-8769-6f28c6b35f3f"
      },
      "outputs": [
        {
          "data": {
            "text/plain": [
              "Text(0.5, 1.0, 'Count Plot of Passenger Count')"
            ]
          },
          "execution_count": 30,
          "metadata": {},
          "output_type": "execute_result"
        },
        {
          "data": {
            "image/png": "[encoded data removed]",
            "text/plain": [
              "<Figure size 640x480 with 1 Axes>"
            ]
          },
          "metadata": {},
          "output_type": "display_data"
        }
      ],
      "source": [
        "sns.countplot(x=\"passenger_count\", data=df1)\n",
        "\n",
        "plt.xlabel(\"Passenger Count\")\n",
        "plt.ylabel(\"Count\")\n",
        "plt.title(\"Count Plot of Passenger Count\")"
      ]
    },
    {
      "cell_type": "markdown",
      "metadata": {
        "id": "RJpV_b_omBYc"
      },
      "source": [
        "### CounterPlot of dataset after outlier handling"
      ]
    },
    {
      "cell_type": "code",
      "execution_count": 28,
      "metadata": {
        "colab": {
          "base_uri": "https://localhost:8080/",
          "height": 489
        },
        "id": "aU7dr0sLl1kC",
        "outputId": "1f8c3537-015a-4324-ac0c-3897e652d675"
      },
      "outputs": [
        {
          "data": {
            "text/plain": [
              "Text(0.5, 1.0, 'Count Plot of Passenger Count')"
            ]
          },
          "execution_count": 28,
          "metadata": {},
          "output_type": "execute_result"
        },
        {
          "data": {
            "image/png": "[encoded data removed]",
            "text/plain": [
              "<Figure size 640x480 with 1 Axes>"
            ]
          },
          "metadata": {},
          "output_type": "display_data"
        }
      ],
      "source": [
        "sns.countplot(x=\"passenger_count\", data=df_imputed)\n",
        "\n",
        "plt.xlabel(\"Passenger Count\")\n",
        "plt.ylabel(\"Count\")\n",
        "plt.title(\"Count Plot of Passenger Count\")"
      ]
    },
    {
      "cell_type": "markdown",
      "metadata": {
        "id": "MBaz0gbwbex_"
      },
      "source": [
        "### Test for outliers for method 2"
      ]
    },
    {
      "cell_type": "code",
      "execution_count": 25,
      "metadata": {
        "colab": {
          "base_uri": "https://localhost:8080/"
        },
        "id": "wYHX1Pa8kgvw",
        "outputId": "f98290ff-aa31-4c19-dced-abee178b22d5"
      },
      "outputs": [
        {
          "name": "stdout",
          "output_type": "stream",
          "text": [
            "Coefficient of variation: 65.52704735504582\n"
          ]
        }
      ],
      "source": [
        "passenger_counts = df1['passenger_count'].values\n",
        "mean = np.mean(passenger_counts)\n",
        "std_dev = np.std(passenger_counts)\n",
        "\n",
        "# Calculate the coefficient of variation\n",
        "cv = (std_dev / mean) * 100\n",
        "\n",
        "print(\"Coefficient of variation:\", cv)"
      ]
    },
    {
      "cell_type": "code",
      "execution_count": 26,
      "metadata": {
        "colab": {
          "base_uri": "https://localhost:8080/"
        },
        "id": "LLU0I9Hmdwr7",
        "outputId": "1b0ef242-0867-4a4d-83b0-352830aac08b"
      },
      "outputs": [
        {
          "name": "stdout",
          "output_type": "stream",
          "text": [
            "Coefficient of variation: 56.85174657541863\n"
          ]
        }
      ],
      "source": [
        "passenger_counts = df_imputed['passenger_count'].values\n",
        "mean = np.mean(passenger_counts)\n",
        "std_dev = np.std(passenger_counts)\n",
        "\n",
        "# Calculate the coefficient of variation\n",
        "cv = (std_dev / mean) * 100\n",
        "\n",
        "print(\"Coefficient of variation:\", cv)"
      ]
    },
    {
      "cell_type": "markdown",
      "metadata": {
        "id": "E2qaLcEjbUy1"
      },
      "source": [
        "### Result\n",
        "method 1(isolation forest) got less std and less CV. So I will use that as my main algorithm."
      ]
    },
    {
      "cell_type": "markdown",
      "metadata": {
        "id": "B-GohVfN0K1-"
      },
      "source": [
        "### Handling RateCodeID outlier"
      ]
    },
    {
      "cell_type": "code",
      "execution_count": 27,
      "metadata": {
        "colab": {
          "base_uri": "https://localhost:8080/"
        },
        "id": "LJE6rBRl0OY3",
        "outputId": "e8dd5a8f-4f90-4721-ec53-0964afdc10a1"
      },
      "outputs": [
        {
          "data": {
            "text/plain": [
              "1.0     2839305\n",
              "2.0      114239\n",
              "5.0       15043\n",
              "99.0      13106\n",
              "3.0        8958\n",
              "4.0        4366\n",
              "6.0           6\n",
              "Name: RatecodeID, dtype: int64"
            ]
          },
          "execution_count": 27,
          "metadata": {},
          "output_type": "execute_result"
        }
      ],
      "source": [
        "df_imputed.RatecodeID.value_counts()  # get 99 ratecodeid as an unknown ratecodeid. we won't change it, because it could get biased and won't recognize test data."
      ]
    },
    {
      "cell_type": "code",
      "execution_count": 27,
      "metadata": {
        "id": "SwjZ9jA2_qhp"
      },
      "outputs": [],
      "source": []
    }
  ],
  "metadata": {
    "colab": {
      "provenance": []
    },
    "kernelspec": {
      "display_name": "Python 3.10.6 64-bit",
      "language": "python",
      "name": "python3"
    },
    "language_info": {
      "name": "python",
      "version": "3.10.6"
    },
    "vscode": {
      "interpreter": {
        "hash": "916dbcbb3f70747c44a77c7bcd40155683ae19c65e1c03b4aa3499c5328201f1"
      }
    }
  },
  "nbformat": 4,
  "nbformat_minor": 0
}
